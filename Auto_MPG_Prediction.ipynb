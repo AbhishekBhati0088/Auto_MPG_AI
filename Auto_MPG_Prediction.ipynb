{
 "cells": [
  {
   "cell_type": "markdown",
   "metadata": {},
   "source": [
    "## Import Libraries"
   ]
  },
  {
   "cell_type": "code",
   "execution_count": 3,
   "metadata": {},
   "outputs": [],
   "source": [
    "import tensorflow as tf\n",
    "from tensorflow import keras"
   ]
  },
  {
   "cell_type": "markdown",
   "metadata": {},
   "source": [
    "## Assigning "
   ]
  },
  {
   "cell_type": "code",
   "execution_count": 4,
   "metadata": {},
   "outputs": [
    {
     "name": "stdout",
     "output_type": "stream",
     "text": [
      "Downloading data from https://www.cs.toronto.edu/~kriz/cifar-100-python.tar.gz\n",
      "169009152/169001437 [==============================] - 96s 1us/step\n",
      "169017344/169001437 [==============================] - 96s 1us/step\n"
     ]
    }
   ],
   "source": [
    "(train_images, train_labels), (test_images, test_labels) = keras.datasets.cifar100.load_data()"
   ]
  },
  {
   "cell_type": "code",
   "execution_count": 5,
   "metadata": {},
   "outputs": [
    {
     "name": "stdout",
     "output_type": "stream",
     "text": [
      "Number of axes in train images:  4\n",
      "Number of axes in test images:  4\n",
      "Shape of train images:  (50000, 32, 32, 3)\n",
      "Shape of test images:  (10000, 32, 32, 3)\n"
     ]
    }
   ],
   "source": [
    "print('Number of axes in train images: ',train_images.ndim)\n",
    "print('Number of axes in test images: ',test_images.ndim)\n",
    "print('Shape of train images: ', train_images.shape)\n",
    "print('Shape of test images: ', test_images.shape)"
   ]
  },
  {
   "cell_type": "code",
   "execution_count": 6,
   "metadata": {},
   "outputs": [
    {
     "name": "stdout",
     "output_type": "stream",
     "text": [
      "3\n",
      "(32, 32, 3)\n"
     ]
    }
   ],
   "source": [
    "print(train_images[0].ndim)\n",
    "print(train_images[0].shape)"
   ]
  },
  {
   "cell_type": "code",
   "execution_count": 7,
   "metadata": {},
   "outputs": [],
   "source": [
    "train_images, test_images = train_images/ 255.0 , test_images / 255.0"
   ]
  },
  {
   "cell_type": "code",
   "execution_count": 8,
   "metadata": {},
   "outputs": [],
   "source": [
    "model = keras.models.Sequential()\n",
    "model.add(keras.layers.Conv2D(384,(3,3), activation='relu', input_shape = (32,32,3)))\n",
    "model.add(keras.layers.MaxPooling2D((2,2)))\n",
    "model.add(keras.layers.Conv2D(64,(3,3), activation = 'relu'))\n",
    "model.add(keras.layers.MaxPooling2D((2,2)))\n",
    "model.add(keras.layers.Conv2D(64,(3,3), activation='relu'))\n",
    "model.add(keras.layers.Flatten())\n",
    "model.add(keras.layers.Dense(64, activation='relu'))\n",
    "model.add(keras.layers.Dense(100, activation='softmax'))\n",
    "model.compile(optimizer = 'adam',\n",
    "              loss = 'sparse_categorical_crossentropy',\n",
    "              metrics = ['accuracy'])"
   ]
  },
  {
   "cell_type": "markdown",
   "metadata": {},
   "source": [
    "## Fit the model"
   ]
  },
  {
   "cell_type": "code",
   "execution_count": 9,
   "metadata": {},
   "outputs": [
    {
     "name": "stdout",
     "output_type": "stream",
     "text": [
      "Epoch 1/5\n",
      "782/782 [==============================] - 1289s 2s/step - loss: 4.0960 - accuracy: 0.0776 - val_loss: 3.7370 - val_accuracy: 0.1254\n",
      "Epoch 2/5\n",
      "782/782 [==============================] - 1129s 1s/step - loss: 3.5377 - accuracy: 0.1665 - val_loss: 3.4409 - val_accuracy: 0.1848\n",
      "Epoch 3/5\n",
      "782/782 [==============================] - 1079s 1s/step - loss: 3.2713 - accuracy: 0.2110 - val_loss: 3.2159 - val_accuracy: 0.2215\n",
      "Epoch 4/5\n",
      "782/782 [==============================] - 1072s 1s/step - loss: 3.0815 - accuracy: 0.2441 - val_loss: 3.0800 - val_accuracy: 0.2511\n",
      "Epoch 5/5\n",
      "782/782 [==============================] - 1076s 1s/step - loss: 2.9313 - accuracy: 0.2745 - val_loss: 3.1203 - val_accuracy: 0.2432\n"
     ]
    },
    {
     "data": {
      "text/plain": [
       "<keras.callbacks.History at 0x28e3edb2430>"
      ]
     },
     "execution_count": 9,
     "metadata": {},
     "output_type": "execute_result"
    }
   ],
   "source": [
    "model.fit(train_images, train_labels, epochs = 5, validation_data=(test_images, test_labels), batch_size = 64)"
   ]
  },
  {
   "cell_type": "code",
   "execution_count": 10,
   "metadata": {},
   "outputs": [
    {
     "name": "stdout",
     "output_type": "stream",
     "text": [
      "313/313 [==============================] - 59s 187ms/step - loss: 3.1203 - accuracy: 0.2432\n"
     ]
    }
   ],
   "source": [
    "test_loss, test_acc = model.evaluate(test_images, test_labels)"
   ]
  },
  {
   "cell_type": "code",
   "execution_count": null,
   "metadata": {},
   "outputs": [],
   "source": []
  }
 ],
 "metadata": {
  "kernelspec": {
   "display_name": "Python 3",
   "language": "python",
   "name": "python3"
  },
  "language_info": {
   "codemirror_mode": {
    "name": "ipython",
    "version": 3
   },
   "file_extension": ".py",
   "mimetype": "text/x-python",
   "name": "python",
   "nbconvert_exporter": "python",
   "pygments_lexer": "ipython3",
   "version": "3.8.5"
  }
 },
 "nbformat": 4,
 "nbformat_minor": 5
}
